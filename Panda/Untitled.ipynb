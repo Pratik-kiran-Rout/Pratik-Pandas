{
 "cells": [
  {
   "cell_type": "markdown",
   "id": "c9c2d54d-8ee5-42f6-8a5f-28086c1efd9d",
   "metadata": {},
   "source": [
    "# Problem no 4"
   ]
  },
  {
   "cell_type": "markdown",
   "id": "c050412c-bcde-422d-97b0-ac849f0be3e3",
   "metadata": {},
   "source": [
    "**Remove the duplicates and save the first occurance**"
   ]
  },
  {
   "cell_type": "code",
   "execution_count": 1,
   "id": "1cc791d4-9199-47cb-98ee-92a06183252d",
   "metadata": {},
   "outputs": [
    {
     "name": "stdout",
     "output_type": "stream",
     "text": [
      "            Name  Roll No                  Email\n",
      "0       John Doe      101    johndoe@example.com\n",
      "1     Jane Smith      102  janesmith@example.com\n",
      "2  Alice Johnson      103     alicej@example.com\n",
      "3      Bob Brown      104    johndoe@example.com\n",
      "4      Eve White      105   evewhite@example.com\n"
     ]
    }
   ],
   "source": [
    "import pandas as pd\n",
    "data=pd.DataFrame({\n",
    "    \"Name\": [\"John Doe\", \"Jane Smith\", \"Alice Johnson\", \"Bob Brown\", \"Eve White\"],\n",
    "    \"Roll No\": [101, 102, 103, 104, 105],\n",
    "    \"Email\": [\"johndoe@example.com\", \"janesmith@example.com\", \"alicej@example.com\", \"johndoe@example.com\", \"evewhite@example.com\"]\n",
    "})\n",
    "print(data)"
   ]
  },
  {
   "cell_type": "code",
   "execution_count": 11,
   "id": "ca90565d-a55b-4468-b17e-6b74f9409cab",
   "metadata": {},
   "outputs": [
    {
     "data": {
      "text/html": [
       "<div>\n",
       "<style scoped>\n",
       "    .dataframe tbody tr th:only-of-type {\n",
       "        vertical-align: middle;\n",
       "    }\n",
       "\n",
       "    .dataframe tbody tr th {\n",
       "        vertical-align: top;\n",
       "    }\n",
       "\n",
       "    .dataframe thead th {\n",
       "        text-align: right;\n",
       "    }\n",
       "</style>\n",
       "<table border=\"1\" class=\"dataframe\">\n",
       "  <thead>\n",
       "    <tr style=\"text-align: right;\">\n",
       "      <th></th>\n",
       "      <th>Name</th>\n",
       "      <th>Roll No</th>\n",
       "      <th>Email</th>\n",
       "    </tr>\n",
       "  </thead>\n",
       "  <tbody>\n",
       "    <tr>\n",
       "      <th>0</th>\n",
       "      <td>John Doe</td>\n",
       "      <td>101</td>\n",
       "      <td>johndoe@example.com</td>\n",
       "    </tr>\n",
       "    <tr>\n",
       "      <th>1</th>\n",
       "      <td>Jane Smith</td>\n",
       "      <td>102</td>\n",
       "      <td>janesmith@example.com</td>\n",
       "    </tr>\n",
       "    <tr>\n",
       "      <th>2</th>\n",
       "      <td>Alice Johnson</td>\n",
       "      <td>103</td>\n",
       "      <td>alicej@example.com</td>\n",
       "    </tr>\n",
       "    <tr>\n",
       "      <th>4</th>\n",
       "      <td>Eve White</td>\n",
       "      <td>105</td>\n",
       "      <td>evewhite@example.com</td>\n",
       "    </tr>\n",
       "  </tbody>\n",
       "</table>\n",
       "</div>"
      ],
      "text/plain": [
       "            Name  Roll No                  Email\n",
       "0       John Doe      101    johndoe@example.com\n",
       "1     Jane Smith      102  janesmith@example.com\n",
       "2  Alice Johnson      103     alicej@example.com\n",
       "4      Eve White      105   evewhite@example.com"
      ]
     },
     "execution_count": 11,
     "metadata": {},
     "output_type": "execute_result"
    }
   ],
   "source": [
    "data.drop_duplicates(subset=['Email'],keep='first') # it will remove the last occurance "
   ]
  },
  {
   "cell_type": "code",
   "execution_count": 5,
   "id": "9d8cd1d4-b112-4198-aacd-2caf2c6cced0",
   "metadata": {},
   "outputs": [
    {
     "data": {
      "text/html": [
       "<div>\n",
       "<style scoped>\n",
       "    .dataframe tbody tr th:only-of-type {\n",
       "        vertical-align: middle;\n",
       "    }\n",
       "\n",
       "    .dataframe tbody tr th {\n",
       "        vertical-align: top;\n",
       "    }\n",
       "\n",
       "    .dataframe thead th {\n",
       "        text-align: right;\n",
       "    }\n",
       "</style>\n",
       "<table border=\"1\" class=\"dataframe\">\n",
       "  <thead>\n",
       "    <tr style=\"text-align: right;\">\n",
       "      <th></th>\n",
       "      <th>index</th>\n",
       "      <th>Name</th>\n",
       "      <th>Roll No</th>\n",
       "      <th>Email</th>\n",
       "    </tr>\n",
       "  </thead>\n",
       "  <tbody>\n",
       "    <tr>\n",
       "      <th>0</th>\n",
       "      <td>0</td>\n",
       "      <td>John Doe</td>\n",
       "      <td>101</td>\n",
       "      <td>johndoe@example.com</td>\n",
       "    </tr>\n",
       "    <tr>\n",
       "      <th>1</th>\n",
       "      <td>1</td>\n",
       "      <td>Jane Smith</td>\n",
       "      <td>102</td>\n",
       "      <td>janesmith@example.com</td>\n",
       "    </tr>\n",
       "    <tr>\n",
       "      <th>2</th>\n",
       "      <td>2</td>\n",
       "      <td>Alice Johnson</td>\n",
       "      <td>103</td>\n",
       "      <td>alicej@example.com</td>\n",
       "    </tr>\n",
       "    <tr>\n",
       "      <th>3</th>\n",
       "      <td>3</td>\n",
       "      <td>Bob Brown</td>\n",
       "      <td>104</td>\n",
       "      <td>johndoe@example.com</td>\n",
       "    </tr>\n",
       "    <tr>\n",
       "      <th>4</th>\n",
       "      <td>4</td>\n",
       "      <td>Eve White</td>\n",
       "      <td>105</td>\n",
       "      <td>evewhite@example.com</td>\n",
       "    </tr>\n",
       "  </tbody>\n",
       "</table>\n",
       "</div>"
      ],
      "text/plain": [
       "   index           Name  Roll No                  Email\n",
       "0      0       John Doe      101    johndoe@example.com\n",
       "1      1     Jane Smith      102  janesmith@example.com\n",
       "2      2  Alice Johnson      103     alicej@example.com\n",
       "3      3      Bob Brown      104    johndoe@example.com\n",
       "4      4      Eve White      105   evewhite@example.com"
      ]
     },
     "execution_count": 5,
     "metadata": {},
     "output_type": "execute_result"
    }
   ],
   "source": [
    "data.reset_index()"
   ]
  },
  {
   "cell_type": "code",
   "execution_count": 10,
   "id": "4e8bd564-8773-46b6-bef8-2e1a6cd1112c",
   "metadata": {},
   "outputs": [
    {
     "data": {
      "text/html": [
       "<div>\n",
       "<style scoped>\n",
       "    .dataframe tbody tr th:only-of-type {\n",
       "        vertical-align: middle;\n",
       "    }\n",
       "\n",
       "    .dataframe tbody tr th {\n",
       "        vertical-align: top;\n",
       "    }\n",
       "\n",
       "    .dataframe thead th {\n",
       "        text-align: right;\n",
       "    }\n",
       "</style>\n",
       "<table border=\"1\" class=\"dataframe\">\n",
       "  <thead>\n",
       "    <tr style=\"text-align: right;\">\n",
       "      <th></th>\n",
       "      <th>Name</th>\n",
       "      <th>Roll No</th>\n",
       "      <th>Email</th>\n",
       "    </tr>\n",
       "  </thead>\n",
       "  <tbody>\n",
       "    <tr>\n",
       "      <th>1</th>\n",
       "      <td>Jane Smith</td>\n",
       "      <td>102</td>\n",
       "      <td>janesmith@example.com</td>\n",
       "    </tr>\n",
       "    <tr>\n",
       "      <th>2</th>\n",
       "      <td>Alice Johnson</td>\n",
       "      <td>103</td>\n",
       "      <td>alicej@example.com</td>\n",
       "    </tr>\n",
       "    <tr>\n",
       "      <th>3</th>\n",
       "      <td>Bob Brown</td>\n",
       "      <td>104</td>\n",
       "      <td>johndoe@example.com</td>\n",
       "    </tr>\n",
       "    <tr>\n",
       "      <th>4</th>\n",
       "      <td>Eve White</td>\n",
       "      <td>105</td>\n",
       "      <td>evewhite@example.com</td>\n",
       "    </tr>\n",
       "  </tbody>\n",
       "</table>\n",
       "</div>"
      ],
      "text/plain": [
       "            Name  Roll No                  Email\n",
       "1     Jane Smith      102  janesmith@example.com\n",
       "2  Alice Johnson      103     alicej@example.com\n",
       "3      Bob Brown      104    johndoe@example.com\n",
       "4      Eve White      105   evewhite@example.com"
      ]
     },
     "execution_count": 10,
     "metadata": {},
     "output_type": "execute_result"
    }
   ],
   "source": [
    "data.drop_duplicates(subset=['Email'],keep='last') # it will  remove the first occurance"
   ]
  },
  {
   "cell_type": "code",
   "execution_count": 12,
   "id": "2ee4dc20-0679-4e21-a3b5-918cfed07836",
   "metadata": {},
   "outputs": [
    {
     "data": {
      "text/html": [
       "<div>\n",
       "<style scoped>\n",
       "    .dataframe tbody tr th:only-of-type {\n",
       "        vertical-align: middle;\n",
       "    }\n",
       "\n",
       "    .dataframe tbody tr th {\n",
       "        vertical-align: top;\n",
       "    }\n",
       "\n",
       "    .dataframe thead th {\n",
       "        text-align: right;\n",
       "    }\n",
       "</style>\n",
       "<table border=\"1\" class=\"dataframe\">\n",
       "  <thead>\n",
       "    <tr style=\"text-align: right;\">\n",
       "      <th></th>\n",
       "      <th>Name</th>\n",
       "      <th>Roll No</th>\n",
       "      <th>Email</th>\n",
       "    </tr>\n",
       "  </thead>\n",
       "  <tbody>\n",
       "    <tr>\n",
       "      <th>0</th>\n",
       "      <td>John Doe</td>\n",
       "      <td>101</td>\n",
       "      <td>johndoe@example.com</td>\n",
       "    </tr>\n",
       "    <tr>\n",
       "      <th>1</th>\n",
       "      <td>Jane Smith</td>\n",
       "      <td>102</td>\n",
       "      <td>janesmith@example.com</td>\n",
       "    </tr>\n",
       "    <tr>\n",
       "      <th>2</th>\n",
       "      <td>Alice Johnson</td>\n",
       "      <td>103</td>\n",
       "      <td>alicej@example.com</td>\n",
       "    </tr>\n",
       "    <tr>\n",
       "      <th>3</th>\n",
       "      <td>Bob Brown</td>\n",
       "      <td>104</td>\n",
       "      <td>johndoe@example.com</td>\n",
       "    </tr>\n",
       "    <tr>\n",
       "      <th>4</th>\n",
       "      <td>Eve White</td>\n",
       "      <td>105</td>\n",
       "      <td>evewhite@example.com</td>\n",
       "    </tr>\n",
       "  </tbody>\n",
       "</table>\n",
       "</div>"
      ],
      "text/plain": [
       "            Name  Roll No                  Email\n",
       "0       John Doe      101    johndoe@example.com\n",
       "1     Jane Smith      102  janesmith@example.com\n",
       "2  Alice Johnson      103     alicej@example.com\n",
       "3      Bob Brown      104    johndoe@example.com\n",
       "4      Eve White      105   evewhite@example.com"
      ]
     },
     "execution_count": 12,
     "metadata": {},
     "output_type": "execute_result"
    }
   ],
   "source": [
    "data"
   ]
  },
  {
   "cell_type": "code",
   "execution_count": 13,
   "id": "b9bec1e6-970f-4cae-ac6a-701cabb28f36",
   "metadata": {},
   "outputs": [],
   "source": [
    "# for save the changes we use \"inplace = True \""
   ]
  },
  {
   "cell_type": "code",
   "execution_count": 14,
   "id": "096348ec-499d-4cd9-8a33-426ef3ac010f",
   "metadata": {},
   "outputs": [],
   "source": [
    "data.drop_duplicates(subset=['Email'],keep='first',inplace=True)"
   ]
  },
  {
   "cell_type": "code",
   "execution_count": 15,
   "id": "1894db0e-1133-4447-a3db-6597aa6e9ef2",
   "metadata": {},
   "outputs": [
    {
     "data": {
      "text/html": [
       "<div>\n",
       "<style scoped>\n",
       "    .dataframe tbody tr th:only-of-type {\n",
       "        vertical-align: middle;\n",
       "    }\n",
       "\n",
       "    .dataframe tbody tr th {\n",
       "        vertical-align: top;\n",
       "    }\n",
       "\n",
       "    .dataframe thead th {\n",
       "        text-align: right;\n",
       "    }\n",
       "</style>\n",
       "<table border=\"1\" class=\"dataframe\">\n",
       "  <thead>\n",
       "    <tr style=\"text-align: right;\">\n",
       "      <th></th>\n",
       "      <th>Name</th>\n",
       "      <th>Roll No</th>\n",
       "      <th>Email</th>\n",
       "    </tr>\n",
       "  </thead>\n",
       "  <tbody>\n",
       "    <tr>\n",
       "      <th>0</th>\n",
       "      <td>John Doe</td>\n",
       "      <td>101</td>\n",
       "      <td>johndoe@example.com</td>\n",
       "    </tr>\n",
       "    <tr>\n",
       "      <th>1</th>\n",
       "      <td>Jane Smith</td>\n",
       "      <td>102</td>\n",
       "      <td>janesmith@example.com</td>\n",
       "    </tr>\n",
       "    <tr>\n",
       "      <th>2</th>\n",
       "      <td>Alice Johnson</td>\n",
       "      <td>103</td>\n",
       "      <td>alicej@example.com</td>\n",
       "    </tr>\n",
       "    <tr>\n",
       "      <th>4</th>\n",
       "      <td>Eve White</td>\n",
       "      <td>105</td>\n",
       "      <td>evewhite@example.com</td>\n",
       "    </tr>\n",
       "  </tbody>\n",
       "</table>\n",
       "</div>"
      ],
      "text/plain": [
       "            Name  Roll No                  Email\n",
       "0       John Doe      101    johndoe@example.com\n",
       "1     Jane Smith      102  janesmith@example.com\n",
       "2  Alice Johnson      103     alicej@example.com\n",
       "4      Eve White      105   evewhite@example.com"
      ]
     },
     "execution_count": 15,
     "metadata": {},
     "output_type": "execute_result"
    }
   ],
   "source": [
    "data"
   ]
  },
  {
   "cell_type": "code",
   "execution_count": 16,
   "id": "d91c566c-d24e-4213-be26-e1418514ff29",
   "metadata": {},
   "outputs": [
    {
     "data": {
      "text/html": [
       "<div>\n",
       "<style scoped>\n",
       "    .dataframe tbody tr th:only-of-type {\n",
       "        vertical-align: middle;\n",
       "    }\n",
       "\n",
       "    .dataframe tbody tr th {\n",
       "        vertical-align: top;\n",
       "    }\n",
       "\n",
       "    .dataframe thead th {\n",
       "        text-align: right;\n",
       "    }\n",
       "</style>\n",
       "<table border=\"1\" class=\"dataframe\">\n",
       "  <thead>\n",
       "    <tr style=\"text-align: right;\">\n",
       "      <th></th>\n",
       "      <th>index</th>\n",
       "      <th>Name</th>\n",
       "      <th>Roll No</th>\n",
       "      <th>Email</th>\n",
       "    </tr>\n",
       "  </thead>\n",
       "  <tbody>\n",
       "    <tr>\n",
       "      <th>0</th>\n",
       "      <td>0</td>\n",
       "      <td>John Doe</td>\n",
       "      <td>101</td>\n",
       "      <td>johndoe@example.com</td>\n",
       "    </tr>\n",
       "    <tr>\n",
       "      <th>1</th>\n",
       "      <td>1</td>\n",
       "      <td>Jane Smith</td>\n",
       "      <td>102</td>\n",
       "      <td>janesmith@example.com</td>\n",
       "    </tr>\n",
       "    <tr>\n",
       "      <th>2</th>\n",
       "      <td>2</td>\n",
       "      <td>Alice Johnson</td>\n",
       "      <td>103</td>\n",
       "      <td>alicej@example.com</td>\n",
       "    </tr>\n",
       "    <tr>\n",
       "      <th>3</th>\n",
       "      <td>4</td>\n",
       "      <td>Eve White</td>\n",
       "      <td>105</td>\n",
       "      <td>evewhite@example.com</td>\n",
       "    </tr>\n",
       "  </tbody>\n",
       "</table>\n",
       "</div>"
      ],
      "text/plain": [
       "   index           Name  Roll No                  Email\n",
       "0      0       John Doe      101    johndoe@example.com\n",
       "1      1     Jane Smith      102  janesmith@example.com\n",
       "2      2  Alice Johnson      103     alicej@example.com\n",
       "3      4      Eve White      105   evewhite@example.com"
      ]
     },
     "execution_count": 16,
     "metadata": {},
     "output_type": "execute_result"
    }
   ],
   "source": [
    "data.reset_index()"
   ]
  },
  {
   "cell_type": "code",
   "execution_count": 24,
   "id": "f97baede-f6cb-433b-adbd-6b9f59253e4f",
   "metadata": {},
   "outputs": [],
   "source": [
    "data.loc[3,'index']=3"
   ]
  },
  {
   "cell_type": "code",
   "execution_count": 25,
   "id": "97f5876d-7689-4f85-834c-c35c0a855536",
   "metadata": {},
   "outputs": [
    {
     "data": {
      "text/html": [
       "<div>\n",
       "<style scoped>\n",
       "    .dataframe tbody tr th:only-of-type {\n",
       "        vertical-align: middle;\n",
       "    }\n",
       "\n",
       "    .dataframe tbody tr th {\n",
       "        vertical-align: top;\n",
       "    }\n",
       "\n",
       "    .dataframe thead th {\n",
       "        text-align: right;\n",
       "    }\n",
       "</style>\n",
       "<table border=\"1\" class=\"dataframe\">\n",
       "  <thead>\n",
       "    <tr style=\"text-align: right;\">\n",
       "      <th></th>\n",
       "      <th>Name</th>\n",
       "      <th>Roll No</th>\n",
       "      <th>Email</th>\n",
       "      <th>index</th>\n",
       "    </tr>\n",
       "  </thead>\n",
       "  <tbody>\n",
       "    <tr>\n",
       "      <th>0</th>\n",
       "      <td>John Doe</td>\n",
       "      <td>101.0</td>\n",
       "      <td>johndoe@example.com</td>\n",
       "      <td>NaN</td>\n",
       "    </tr>\n",
       "    <tr>\n",
       "      <th>1</th>\n",
       "      <td>Jane Smith</td>\n",
       "      <td>102.0</td>\n",
       "      <td>janesmith@example.com</td>\n",
       "      <td>NaN</td>\n",
       "    </tr>\n",
       "    <tr>\n",
       "      <th>2</th>\n",
       "      <td>Alice Johnson</td>\n",
       "      <td>103.0</td>\n",
       "      <td>alicej@example.com</td>\n",
       "      <td>NaN</td>\n",
       "    </tr>\n",
       "    <tr>\n",
       "      <th>3</th>\n",
       "      <td>Eve White</td>\n",
       "      <td>105.0</td>\n",
       "      <td>evewhite@example.com</td>\n",
       "      <td>3.0</td>\n",
       "    </tr>\n",
       "    <tr>\n",
       "      <th>4</th>\n",
       "      <td>NaN</td>\n",
       "      <td>NaN</td>\n",
       "      <td>NaN</td>\n",
       "      <td>3.0</td>\n",
       "    </tr>\n",
       "  </tbody>\n",
       "</table>\n",
       "</div>"
      ],
      "text/plain": [
       "            Name  Roll No                  Email  index\n",
       "0       John Doe    101.0    johndoe@example.com    NaN\n",
       "1     Jane Smith    102.0  janesmith@example.com    NaN\n",
       "2  Alice Johnson    103.0     alicej@example.com    NaN\n",
       "3      Eve White    105.0   evewhite@example.com    3.0\n",
       "4            NaN      NaN                    NaN    3.0"
      ]
     },
     "execution_count": 25,
     "metadata": {},
     "output_type": "execute_result"
    }
   ],
   "source": [
    "data"
   ]
  },
  {
   "cell_type": "code",
   "execution_count": 27,
   "id": "67cd55ad-c8f7-4ada-8987-e6eea4e06bc6",
   "metadata": {},
   "outputs": [],
   "source": [
    "data.drop('index',axis=1,inplace=True)"
   ]
  },
  {
   "cell_type": "code",
   "execution_count": 28,
   "id": "a13fb29b-b6b2-4c3d-85ba-31485d4746b5",
   "metadata": {},
   "outputs": [
    {
     "data": {
      "text/html": [
       "<div>\n",
       "<style scoped>\n",
       "    .dataframe tbody tr th:only-of-type {\n",
       "        vertical-align: middle;\n",
       "    }\n",
       "\n",
       "    .dataframe tbody tr th {\n",
       "        vertical-align: top;\n",
       "    }\n",
       "\n",
       "    .dataframe thead th {\n",
       "        text-align: right;\n",
       "    }\n",
       "</style>\n",
       "<table border=\"1\" class=\"dataframe\">\n",
       "  <thead>\n",
       "    <tr style=\"text-align: right;\">\n",
       "      <th></th>\n",
       "      <th>Name</th>\n",
       "      <th>Roll No</th>\n",
       "      <th>Email</th>\n",
       "    </tr>\n",
       "  </thead>\n",
       "  <tbody>\n",
       "    <tr>\n",
       "      <th>0</th>\n",
       "      <td>John Doe</td>\n",
       "      <td>101.0</td>\n",
       "      <td>johndoe@example.com</td>\n",
       "    </tr>\n",
       "    <tr>\n",
       "      <th>1</th>\n",
       "      <td>Jane Smith</td>\n",
       "      <td>102.0</td>\n",
       "      <td>janesmith@example.com</td>\n",
       "    </tr>\n",
       "    <tr>\n",
       "      <th>2</th>\n",
       "      <td>Alice Johnson</td>\n",
       "      <td>103.0</td>\n",
       "      <td>alicej@example.com</td>\n",
       "    </tr>\n",
       "    <tr>\n",
       "      <th>3</th>\n",
       "      <td>Eve White</td>\n",
       "      <td>105.0</td>\n",
       "      <td>evewhite@example.com</td>\n",
       "    </tr>\n",
       "    <tr>\n",
       "      <th>4</th>\n",
       "      <td>NaN</td>\n",
       "      <td>NaN</td>\n",
       "      <td>NaN</td>\n",
       "    </tr>\n",
       "  </tbody>\n",
       "</table>\n",
       "</div>"
      ],
      "text/plain": [
       "            Name  Roll No                  Email\n",
       "0       John Doe    101.0    johndoe@example.com\n",
       "1     Jane Smith    102.0  janesmith@example.com\n",
       "2  Alice Johnson    103.0     alicej@example.com\n",
       "3      Eve White    105.0   evewhite@example.com\n",
       "4            NaN      NaN                    NaN"
      ]
     },
     "execution_count": 28,
     "metadata": {},
     "output_type": "execute_result"
    }
   ],
   "source": [
    "data"
   ]
  },
  {
   "cell_type": "code",
   "execution_count": 30,
   "id": "d78dfc4a-f81d-47a6-8576-25da634ae7f6",
   "metadata": {},
   "outputs": [],
   "source": [
    "data.drop(4,inplace=True)"
   ]
  },
  {
   "cell_type": "code",
   "execution_count": 31,
   "id": "d164e0dc-1a94-4fe1-9566-9b8908f860c4",
   "metadata": {},
   "outputs": [
    {
     "data": {
      "text/html": [
       "<div>\n",
       "<style scoped>\n",
       "    .dataframe tbody tr th:only-of-type {\n",
       "        vertical-align: middle;\n",
       "    }\n",
       "\n",
       "    .dataframe tbody tr th {\n",
       "        vertical-align: top;\n",
       "    }\n",
       "\n",
       "    .dataframe thead th {\n",
       "        text-align: right;\n",
       "    }\n",
       "</style>\n",
       "<table border=\"1\" class=\"dataframe\">\n",
       "  <thead>\n",
       "    <tr style=\"text-align: right;\">\n",
       "      <th></th>\n",
       "      <th>Name</th>\n",
       "      <th>Roll No</th>\n",
       "      <th>Email</th>\n",
       "    </tr>\n",
       "  </thead>\n",
       "  <tbody>\n",
       "    <tr>\n",
       "      <th>0</th>\n",
       "      <td>John Doe</td>\n",
       "      <td>101.0</td>\n",
       "      <td>johndoe@example.com</td>\n",
       "    </tr>\n",
       "    <tr>\n",
       "      <th>1</th>\n",
       "      <td>Jane Smith</td>\n",
       "      <td>102.0</td>\n",
       "      <td>janesmith@example.com</td>\n",
       "    </tr>\n",
       "    <tr>\n",
       "      <th>2</th>\n",
       "      <td>Alice Johnson</td>\n",
       "      <td>103.0</td>\n",
       "      <td>alicej@example.com</td>\n",
       "    </tr>\n",
       "    <tr>\n",
       "      <th>3</th>\n",
       "      <td>Eve White</td>\n",
       "      <td>105.0</td>\n",
       "      <td>evewhite@example.com</td>\n",
       "    </tr>\n",
       "  </tbody>\n",
       "</table>\n",
       "</div>"
      ],
      "text/plain": [
       "            Name  Roll No                  Email\n",
       "0       John Doe    101.0    johndoe@example.com\n",
       "1     Jane Smith    102.0  janesmith@example.com\n",
       "2  Alice Johnson    103.0     alicej@example.com\n",
       "3      Eve White    105.0   evewhite@example.com"
      ]
     },
     "execution_count": 31,
     "metadata": {},
     "output_type": "execute_result"
    }
   ],
   "source": [
    "data"
   ]
  },
  {
   "cell_type": "code",
   "execution_count": null,
   "id": "f133e582-1754-42fe-a893-f332e4a2a131",
   "metadata": {},
   "outputs": [],
   "source": []
  }
 ],
 "metadata": {
  "kernelspec": {
   "display_name": "Python 3 (ipykernel)",
   "language": "python",
   "name": "python3"
  },
  "language_info": {
   "codemirror_mode": {
    "name": "ipython",
    "version": 3
   },
   "file_extension": ".py",
   "mimetype": "text/x-python",
   "name": "python",
   "nbconvert_exporter": "python",
   "pygments_lexer": "ipython3",
   "version": "3.12.4"
  }
 },
 "nbformat": 4,
 "nbformat_minor": 5
}
